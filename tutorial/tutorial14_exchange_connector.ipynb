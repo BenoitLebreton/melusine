{
 "cells": [
  {
   "cell_type": "code",
   "execution_count": null,
   "metadata": {
    "ExecuteTime": {
     "end_time": "2021-05-04T20:36:08.524564Z",
     "start_time": "2021-05-04T20:36:08.520024Z"
    }
   },
   "outputs": [],
   "source": [
    "import logging\n",
    "import sys\n",
    "\n",
    "logging.basicConfig(stream=sys.stdout, level=logging.INFO)"
   ]
  },
  {
   "cell_type": "markdown",
   "metadata": {},
   "source": [
    "# Connecting melusine to an Outlook Exchange mailbox"
   ]
  },
  {
   "cell_type": "markdown",
   "metadata": {},
   "source": [
    "The main use-case for Melusine is **email routing**. Melusine mostly focuses on the Machine Learning aspects of email routing, however, in order to make routing effective, ML models need to be connected to a mailbox.\n",
    "To connect Melusine to a mailbox, possible options are:  \n",
    "\n",
    "**Option 1: Exposing the ML models through an API**  \n",
    "Ex: An email processing system requests the Melusine API. The request contain the email content and associated metadata while the API response contain the predicted target folder for the email. Based on the API response, the email processing system is responsible for effectively moving the email in the right folder.\n",
    "\n",
    "**Option 2: Connecting Melusine to a mailbox using a python email client**  \n",
    "This way, the emails are moved to the right folders of the mailbox directly from the python code.\n",
    "\n",
    "This tutorial demonstrates how the Melusine `ExchangeConnector` can help you with end-to-end email routing. The ExchangeConnector uses the `exchangelib` package behind the scene.  \n",
    "\n",
    "```\n",
    ">>> pip install exchangelib\n",
    "```"
   ]
  },
  {
   "cell_type": "markdown",
   "metadata": {},
   "source": [
    "# Routing process\n",
    "The process imagined for email routing using Melusine is the following:\n",
    "* Emails are received on the mailbox mymailbox@maif.fr\n",
    "* Melusine is used to predict the target folder for the incoming emails\n",
    "* The `ExchangeConnector` is used to move the emails to the predicted target folders\n",
    "\n",
    "Since ML models are not perfect, some emails might be misclassified. When that happens, consumers of the mailbox are  encouraged to move the emails to the appropriate \"correction folder\".  \n",
    "The emails in the correction folders will constitute training data for future model trainings and thus improve the model.  \n"
   ]
  },
  {
   "cell_type": "markdown",
   "metadata": {},
   "source": [
    "# The ExchangeConnector\n",
    "\n",
    "The Melusine `ExchangeConnector` is instanciated with the following arguments:\n",
    "* `mailbox_address`: This is the address of the mailbox you want to connect to (ex: mymailbox@maif.fr) \n",
    "* `password`: The password associated with the mailbox address\n",
    "* `correction_folder_name`: Name of the folder that contains corrections\n",
    "* `done_folder_name`: Name of the folder that contains \"Done\" emails (emails that have already been processed)\n",
    "* `max_wait`: The maximum time to be spent on trying to connect to the mailbox. Once this time is over, a connection error is raised"
   ]
  },
  {
   "cell_type": "code",
   "execution_count": null,
   "metadata": {
    "ExecuteTime": {
     "end_time": "2021-05-04T20:36:13.464249Z",
     "start_time": "2021-05-04T20:36:13.460799Z"
    }
   },
   "outputs": [],
   "source": [
    "my_address = \"mymailbox@maif.fr\"\n",
    "my_password = \"melusineisawesome\""
   ]
  },
  {
   "cell_type": "code",
   "execution_count": null,
   "metadata": {
    "ExecuteTime": {
     "end_time": "2021-05-04T20:36:16.923030Z",
     "start_time": "2021-05-04T20:36:14.115438Z"
    }
   },
   "outputs": [],
   "source": [
    "from melusine.connectors.exchange import ExchangeConnector\n",
    "connector = ExchangeConnector(my_address, my_password, max_wait=60)"
   ]
  },
  {
   "cell_type": "markdown",
   "metadata": {},
   "source": [
    "# Send fake emails\n",
    "In this section a set of fake emails are sent to the mailbox.  \n",
    "We will then use Melusine and the `ExchangeConnector` to route these emails.\n",
    "\n",
    "## Set the email sender address\n",
    "The `ExchangeConnector` can be used to send emails.  \n",
    "By default the mailbox address is used but you can change the email sender address if you wish."
   ]
  },
  {
   "cell_type": "code",
   "execution_count": null,
   "metadata": {
    "ExecuteTime": {
     "end_time": "2021-05-04T20:36:20.441498Z",
     "start_time": "2021-05-04T20:36:20.437709Z"
    }
   },
   "outputs": [],
   "source": [
    "sender_address = \"mymailbox@maif.fr\"\n",
    "sender_password = \"melusineisawesome\""
   ]
  },
  {
   "cell_type": "code",
   "execution_count": null,
   "metadata": {
    "ExecuteTime": {
     "end_time": "2021-05-04T20:36:20.833825Z",
     "start_time": "2021-05-04T20:36:20.775053Z"
    }
   },
   "outputs": [],
   "source": [
    "connector.set_sender_address(sender_address, sender_password)"
   ]
  },
  {
   "cell_type": "markdown",
   "metadata": {},
   "source": [
    "## Send emails\n",
    "The `send_email` method is used to send emails.  "
   ]
  },
  {
   "cell_type": "code",
   "execution_count": null,
   "metadata": {
    "ExecuteTime": {
     "end_time": "2021-05-04T20:36:24.350402Z",
     "start_time": "2021-05-04T20:36:24.343800Z"
    }
   },
   "outputs": [],
   "source": [
    "fake_emails = [\n",
    "    {\n",
    "        \"header\": \"[Melusine Test]\",\n",
    "        \"body\": \"This should go to folder Test1\"\n",
    "    },\n",
    "    {\n",
    "        \"header\": \"[Melusine Test]\",\n",
    "        \"body\": \"This should go to folder Test2\"\n",
    "    },\n",
    "    {\n",
    "        \"header\": \"[Melusine Test]\",\n",
    "        \"body\": \"This should go to folder Test3\"\n",
    "    }\n",
    "]"
   ]
  },
  {
   "cell_type": "code",
   "execution_count": null,
   "metadata": {
    "ExecuteTime": {
     "end_time": "2021-05-04T20:36:25.880796Z",
     "start_time": "2021-05-04T20:36:25.091166Z"
    }
   },
   "outputs": [],
   "source": [
    "for email_dict in fake_emails:\n",
    "    connector.send_email([my_address], email_dict[\"header\"], email_dict[\"body\"], None)"
   ]
  },
  {
   "cell_type": "markdown",
   "metadata": {},
   "source": [
    "# Create folders\n",
    "In the email routing scenario considered, the following folder are needed:  \n",
    "\n",
    "**Target folders**  \n",
    "These are the folder where the routed emails will be stored.\n",
    "* `Inbox / Test1`\n",
    "* `Inbox / Test2`\n",
    "* `Inbox / Test3`\n",
    "\n",
    "**Correction folders**  \n",
    "When an email is erroneously routed to a target folder, mailbox consumers can move the email to the appropriate \"Correction folder\".  \n",
    "* `Inbox / CORRECTIONS / Test1`\n",
    "* `Inbox / CORRECTIONS / Test2`\n",
    "* `Inbox / CORRECTIONS / Test3`\n",
    "\n",
    "**Done folder**\n",
    "Once the emails in the correction folder have been processed (ex: for model re-training), the correction folders can be flushed by moving all the emails in the Done folder.  \n",
    "* `Inbox / DONE`"
   ]
  },
  {
   "cell_type": "code",
   "execution_count": null,
   "metadata": {
    "ExecuteTime": {
     "end_time": "2021-05-04T19:14:38.679944Z",
     "start_time": "2021-05-04T19:14:38.492026Z"
    }
   },
   "outputs": [],
   "source": [
    "# Create the DONE and CORRECTIONS folders at the inbox root\n",
    "connector.create_folders([\"DONE\", \"CORRECTIONS\"], base_folder_name=None)"
   ]
  },
  {
   "cell_type": "code",
   "execution_count": null,
   "metadata": {
    "ExecuteTime": {
     "end_time": "2021-05-04T19:20:02.918344Z",
     "start_time": "2021-05-04T19:20:02.632409Z"
    }
   },
   "outputs": [],
   "source": [
    "# Create the routing folders\n",
    "connector.create_folders([\"Test1\", \"Test2\", \"Test3\"], base_folder_name=None)"
   ]
  },
  {
   "cell_type": "code",
   "execution_count": null,
   "metadata": {
    "ExecuteTime": {
     "end_time": "2021-05-04T19:20:05.158429Z",
     "start_time": "2021-05-04T19:20:05.152253Z"
    }
   },
   "outputs": [],
   "source": [
    "connector.list_subfolders()"
   ]
  },
  {
   "cell_type": "markdown",
   "metadata": {},
   "source": [
    "Expected output : `['CORRECTIONS', 'DONE', 'Test1', 'Test2', 'Test3']`"
   ]
  },
  {
   "cell_type": "code",
   "execution_count": null,
   "metadata": {
    "ExecuteTime": {
     "end_time": "2021-05-04T19:20:47.292940Z",
     "start_time": "2021-05-04T19:20:47.043424Z"
    }
   },
   "outputs": [],
   "source": [
    "# Create the correction folders\n",
    "connector.create_folders([\"Test1\", \"Test2\", \"Test3\"], base_folder_name=\"CORRECTIONS\")"
   ]
  },
  {
   "cell_type": "code",
   "execution_count": null,
   "metadata": {
    "ExecuteTime": {
     "end_time": "2021-05-04T19:21:01.840754Z",
     "start_time": "2021-05-04T19:21:01.833259Z"
    }
   },
   "outputs": [],
   "source": [
    "connector.list_subfolders(base_folder=\"CORRECTIONS\")"
   ]
  },
  {
   "cell_type": "markdown",
   "metadata": {},
   "source": [
    "Expected output : `['CORRECTIONS', 'DONE', 'Test1', 'Test2', 'Test3']`"
   ]
  },
  {
   "cell_type": "markdown",
   "metadata": {},
   "source": [
    "# Load emails\n",
    "Before emails can be routed, we need to load the content of new emails.  \n",
    "The `get_emails` method lets you load the content of a mailbox folder (by default: the inbox folder)."
   ]
  },
  {
   "cell_type": "code",
   "execution_count": null,
   "metadata": {
    "ExecuteTime": {
     "end_time": "2021-05-04T20:37:28.031647Z",
     "start_time": "2021-05-04T20:37:26.603059Z"
    }
   },
   "outputs": [],
   "source": [
    "df_emails = connector.get_emails()"
   ]
  },
  {
   "cell_type": "code",
   "execution_count": null,
   "metadata": {
    "ExecuteTime": {
     "end_time": "2021-05-04T20:14:46.168953Z",
     "start_time": "2021-05-04T20:14:46.134790Z"
    }
   },
   "outputs": [],
   "source": [
    "mask = df_emails[\"header\"] == \"[Melusine Test]\"\n",
    "df_emails = df_emails[mask].copy()\n",
    "df_emails"
   ]
  },
  {
   "cell_type": "markdown",
   "metadata": {},
   "source": [
    "Expected output:"
   ]
  },
  {
   "cell_type": "markdown",
   "metadata": {},
   "source": [
    "|    | message_id                                                                      | body     | header          | date                      | from                         | to                               | attachment   |\n",
    "|---:|:--------------------------------------------------------------------------------|:---------|:----------------|:--------------------------|:-----------------------------|:---------------------------------|:-------------|\n",
    "| 61 | <1> | This should go to folder Test1 | [Melusine Test] | 2021-05-04T19:07:56+00:00 | mymailbox@maif.fr | ['mymailbox@maif.fr'] |              |\n",
    "| 62 | <2> | This should go to folder Test2 | [Melusine Test] | 2021-05-04T19:07:55+00:00 | mymailbox@maif.fr | ['mymailbox@maif.fr'] |              |\n",
    "| 63 | <3> | This should go to folder Test3 | [Melusine Test] | 2021-05-04T19:07:56+00:00 | mymailbox@maif.fr | ['mymailbox@maif.fr'] |              |"
   ]
  },
  {
   "cell_type": "markdown",
   "metadata": {},
   "source": [
    "# Predict target folders\n",
    "This tutorial focuses on the exchange connector so the ML model prediction part is mocked. Feel free to check the `tutorial08_full_pipeline_detailed.ipynb` to see how ML predictions work with Melusine."
   ]
  },
  {
   "cell_type": "code",
   "execution_count": null,
   "metadata": {
    "ExecuteTime": {
     "end_time": "2021-05-04T20:14:52.472846Z",
     "start_time": "2021-05-04T20:14:52.457373Z"
    }
   },
   "outputs": [],
   "source": [
    "def fake_predictions(emails):\n",
    "    predictions = []\n",
    "    for i in range(len(emails)):\n",
    "        predictions.append(f\"Test{i%3+1}\")\n",
    "    \n",
    "    # Introduce a missclassification\n",
    "    predictions[0] = \"Test2\"\n",
    "    \n",
    "    emails[\"target\"] = predictions\n",
    "    return emails\n",
    "\n",
    "df_emails = fake_predictions(df_emails)\n",
    "df_emails"
   ]
  },
  {
   "cell_type": "markdown",
   "metadata": {},
   "source": [
    "Expected output"
   ]
  },
  {
   "cell_type": "markdown",
   "metadata": {
    "ExecuteTime": {
     "end_time": "2021-05-04T19:37:10.644719Z",
     "start_time": "2021-05-04T19:37:10.623305Z"
    }
   },
   "source": [
    "|    | message_id                                                                      | body     | header          | date                      | from                         | to                               | attachment   | target |\n",
    "|---:|:--------------------------------------------------------------------------------|:---------|:----------------|:--------------------------|:-----------------------------|:---------------------------------|:-------------|:-------|\n",
    "| 61 | <1> | This should go to folder Test1 | [Melusine Test] | 2021-05-04T19:07:56+00:00 | mymailbox@maif.fr | ['mymailbox@maif.fr'] |              | Test2 |\n",
    "| 62 | <2> | This should go to folder Test2 | [Melusine Test] | 2021-05-04T19:07:55+00:00 | mymailbox@maif.fr | ['mymailbox@maif.fr'] |              | Test2 |\n",
    "| 63 | <3> | This should go to folder Test3 | [Melusine Test] | 2021-05-04T19:07:56+00:00 | mymailbox@maif.fr | ['mymailbox@maif.fr'] |              | Test3 |"
   ]
  },
  {
   "cell_type": "markdown",
   "metadata": {},
   "source": [
    "As you can see, there is a prediction error for the first email (`Test2` instead of `Test1`)"
   ]
  },
  {
   "cell_type": "markdown",
   "metadata": {},
   "source": [
    "# Route emails\n",
    "Now that we have predicted the target folders for each email, we use the `ExchangeConnector` to move the emails in the mailbox.  \n",
    "The `route_emails` does exactly that. Its argument are:  \n",
    "        classified_emails,\n",
    "        on_error=\"warning\",\n",
    "        id_column=\"message_id\",\n",
    "        target_column=\"target\",\n",
    "* `classified_emails`: The DataFrame containing the emails and their predicted target folder\n",
    "* `raise_missing_folder_error`: If activated, an error is raised when the target folder does not exist in the mailbox. Otherwise, a warning is printed and the emails are left in the inbox.\n",
    "* `id_column`: Name of the DataFrame column containing the message ID\n",
    "* `target_column`: Name of the DataFrame column containing the target folder"
   ]
  },
  {
   "cell_type": "code",
   "execution_count": null,
   "metadata": {
    "ExecuteTime": {
     "end_time": "2021-05-04T20:15:00.437575Z",
     "start_time": "2021-05-04T20:14:56.970266Z"
    }
   },
   "outputs": [],
   "source": [
    "connector.route_emails(df_emails)"
   ]
  },
  {
   "cell_type": "code",
   "execution_count": null,
   "metadata": {
    "ExecuteTime": {
     "end_time": "2021-05-04T20:15:04.041133Z",
     "start_time": "2021-05-04T20:15:03.909795Z"
    }
   },
   "outputs": [],
   "source": [
    "connector.get_emails(base_folder=\"Test2\")"
   ]
  },
  {
   "cell_type": "markdown",
   "metadata": {},
   "source": [
    "Expected output"
   ]
  },
  {
   "cell_type": "markdown",
   "metadata": {},
   "source": [
    "|    | message_id                                                                      | body     | header          | date                      | from                         | to                               | attachment   |\n",
    "|---:|:--------------------------------------------------------------------------------|:---------|:----------------|:--------------------------|:-----------------------------|:---------------------------------|:-------------|\n",
    "| 61 | <1> | This should go to folder Test1 | [Melusine Test] | 2021-05-04T19:07:56+00:00 | mymailbox@maif.fr | ['mymailbox@maif.fr'] |              |\n",
    "| 62 | <2> | This should go to folder Test2 | [Melusine Test] | 2021-05-04T19:07:55+00:00 | mymailbox@maif.fr | ['mymailbox@maif.fr'] |              |"
   ]
  },
  {
   "cell_type": "markdown",
   "metadata": {},
   "source": [
    "Two emails have been routed to the folder `Test2` !"
   ]
  },
  {
   "cell_type": "markdown",
   "metadata": {},
   "source": [
    "# Make corrections\n",
    "## Move emails to correction folders\n",
    "Corrections should be made by the mailbox consumers directly in the mailbox.   \n",
    "\n",
    "\n",
    "Go to your mailbox and move the emails that says:  \n",
    "**\"This should go to folder Test1\"**  \n",
    "(currently in the Test2 folder)\n",
    "To the correction folder `CORRECTIONS/Test1`"
   ]
  },
  {
   "cell_type": "markdown",
   "metadata": {},
   "source": [
    "## Load corrected data"
   ]
  },
  {
   "cell_type": "code",
   "execution_count": null,
   "metadata": {
    "ExecuteTime": {
     "end_time": "2021-05-04T20:17:48.350032Z",
     "start_time": "2021-05-04T20:17:45.040570Z"
    }
   },
   "outputs": [],
   "source": [
    "# Set CORRECTIONS as the correction folder\n",
    "connector.correction_folder_name = \"CORRECTIONS\""
   ]
  },
  {
   "cell_type": "code",
   "execution_count": null,
   "metadata": {
    "ExecuteTime": {
     "end_time": "2021-05-04T20:17:48.831563Z",
     "start_time": "2021-05-04T20:17:48.592294Z"
    }
   },
   "outputs": [],
   "source": [
    "df_corrections = connector.get_corrections()\n",
    "df_corrections"
   ]
  },
  {
   "cell_type": "markdown",
   "metadata": {},
   "source": [
    "Expected output:"
   ]
  },
  {
   "cell_type": "markdown",
   "metadata": {},
   "source": [
    "|    | message_id                                                                      | body     | header          | date                      | from                         | to                               | attachment   |\n",
    "|---:|:--------------------------------------------------------------------------------|:---------|:----------------|:--------------------------|:-----------------------------|:---------------------------------|:-------------|\n",
    "| 61 | <1> | This should go to folder Test1 | [Melusine Test] | 2021-05-04T19:07:56+00:00 | mymailbox@maif.fr | ['mymailbox@maif.fr'] |              |"
   ]
  },
  {
   "cell_type": "markdown",
   "metadata": {},
   "source": [
    "The emails loaded from the correction folder can now be used to train a new ML model !"
   ]
  },
  {
   "cell_type": "markdown",
   "metadata": {},
   "source": [
    "# Move corrected emails to the \"Done\" folder"
   ]
  },
  {
   "cell_type": "code",
   "execution_count": null,
   "metadata": {
    "ExecuteTime": {
     "end_time": "2021-05-04T20:17:55.503554Z",
     "start_time": "2021-05-04T20:17:55.499171Z"
    }
   },
   "outputs": [],
   "source": [
    "# Set DONE as the \"Done\" folder\n",
    "connector.done_folder_name = \"DONE\""
   ]
  },
  {
   "cell_type": "code",
   "execution_count": null,
   "metadata": {
    "ExecuteTime": {
     "end_time": "2021-05-04T20:17:56.442102Z",
     "start_time": "2021-05-04T20:17:56.202039Z"
    }
   },
   "outputs": [],
   "source": [
    "connector.move_to_done(df_corrections[\"message_id\"])"
   ]
  },
  {
   "cell_type": "markdown",
   "metadata": {},
   "source": [
    "# Conclusion\n",
    "With the `ExchangeConnector` you should be able to easily implement email routing for your mailbox using Melusine !\n",
    "If you like Melusine, don't forget to add a star on [GitHub](https://github.com/MAIF/melusine)"
   ]
  }
 ],
 "metadata": {
  "kernelspec": {
   "display_name": "melusine_perso",
   "language": "python",
   "name": "melusine_perso"
  },
  "language_info": {
   "codemirror_mode": {
    "name": "ipython",
    "version": 3
   },
   "file_extension": ".py",
   "mimetype": "text/x-python",
   "name": "python",
   "nbconvert_exporter": "python",
   "pygments_lexer": "ipython3",
   "version": "3.7.10"
  },
  "pycharm": {
   "stem_cell": {
    "cell_type": "raw",
    "metadata": {
     "collapsed": false
    },
    "source": []
   }
  },
  "toc": {
   "base_numbering": 1,
   "nav_menu": {},
   "number_sections": true,
   "sideBar": true,
   "skip_h1_title": false,
   "title_cell": "Table of Contents",
   "title_sidebar": "Contents",
   "toc_cell": false,
   "toc_position": {},
   "toc_section_display": true,
   "toc_window_display": false
  },
  "varInspector": {
   "cols": {
    "lenName": 16,
    "lenType": 16,
    "lenVar": 40
   },
   "kernels_config": {
    "python": {
     "delete_cmd_postfix": "",
     "delete_cmd_prefix": "del ",
     "library": "var_list.py",
     "varRefreshCmd": "print(var_dic_list())"
    },
    "r": {
     "delete_cmd_postfix": ") ",
     "delete_cmd_prefix": "rm(",
     "library": "var_list.r",
     "varRefreshCmd": "cat(var_dic_list()) "
    }
   },
   "types_to_exclude": [
    "module",
    "function",
    "builtin_function_or_method",
    "instance",
    "_Feature"
   ],
   "window_display": false
  }
 },
 "nbformat": 4,
 "nbformat_minor": 2
}
