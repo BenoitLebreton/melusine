{
 "cells": [
  {
   "cell_type": "markdown",
   "metadata": {},
   "source": [
    "# Name file tutorial"
   ]
  },
  {
   "cell_type": "markdown",
   "metadata": {},
   "source": [
    "While working with text data, names might undergo specific processing:\n",
    "- stopword processing : if names are irrelevant, they may be discarded during the text processing\n",
    "- flagging : if the information that the text contains a name is relevant but the name itself is irrelevant, names may be replaced with a name_flag (bob -> flag_name)\n",
    "\n",
    "By default, Melusine identifies names using an explicit list of names available in a file ('melusine/config/names.csv').  \n",
    "The default name list comes from a name dataset publicly available on the french government website ([link](https://www.data.gouv.fr/fr/datasets/ficher-des-prenoms-de-1900-a-2017)).  \n",
    "This list contains first names given to children (french or not) born in France between 1900 and 2017.\n",
    "\n",
    "The used may specify a **custom name list** using a **custom 'names.csv' file**."
   ]
  },
  {
   "cell_type": "code",
   "execution_count": 1,
   "metadata": {},
   "outputs": [],
   "source": [
    "import pandas as pd\n",
    "import os"
   ]
  },
  {
   "cell_type": "markdown",
   "metadata": {},
   "source": [
    "### Loading the name file"
   ]
  },
  {
   "cell_type": "code",
   "execution_count": 2,
   "metadata": {},
   "outputs": [],
   "source": [
    "from melusine.config.config import ConfigJsonReader\n",
    "conf = ConfigJsonReader()"
   ]
  },
  {
   "cell_type": "markdown",
   "metadata": {},
   "source": [
    "### Print the path to the current name file"
   ]
  },
  {
   "cell_type": "code",
   "execution_count": 3,
   "metadata": {},
   "outputs": [
    {
     "name": "stdout",
     "output_type": "stream",
     "text": [
      "[PATH]\n",
      "template_config = /home/97133d/maif/melusine/melusine/config/conf.json\n",
      "default_name_file = /home/97133d/maif/melusine/melusine/config/names.csv\n",
      "\n",
      "\n"
     ]
    }
   ],
   "source": [
    "with open(conf.path_ini_file_, 'r') as ini_file:\n",
    "        print(ini_file.read())"
   ]
  },
  {
   "cell_type": "markdown",
   "metadata": {},
   "source": [
    "### Print the current list of names (first 5 names)"
   ]
  },
  {
   "cell_type": "code",
   "execution_count": 4,
   "metadata": {},
   "outputs": [
    {
     "name": "stdout",
     "output_type": "stream",
     "text": [
      "['aaliyah', 'aalyah', 'aaron', 'abbas', 'abbes']\n"
     ]
    }
   ],
   "source": [
    "conf_dict = conf.get_config_file()\n",
    "print(conf_dict['words_list']['names'][:5])"
   ]
  },
  {
   "cell_type": "markdown",
   "metadata": {},
   "source": [
    "### Use a custom name file\n",
    "1. Create a new (custom) name file \n",
    "   - The file should be a csv file with a column called `Name`\n",
    "2. Set the new file as the current Melusine name file"
   ]
  },
  {
   "cell_type": "code",
   "execution_count": 5,
   "metadata": {},
   "outputs": [],
   "source": [
    "# Create a name DataFrame\n",
    "df_names = pd.DataFrame({'Name' : ['Daenerys', 'Tyrion', 'Jon', 'Raegar']})\n",
    "\n",
    "# Path to the new name.csv file\n",
    "new_path = os.path.join(os.getcwd(), 'data', 'names.csv')\n",
    "\n",
    "# Save new name.csv file\n",
    "df_names.to_csv(new_path, encoding=\"latin-1\", sep=\";\", index=False)"
   ]
  },
  {
   "cell_type": "code",
   "execution_count": 6,
   "metadata": {},
   "outputs": [
    {
     "name": "stdout",
     "output_type": "stream",
     "text": [
      "       Name\n",
      "0  Daenerys\n",
      "1    Tyrion\n",
      "2       Jon\n",
      "3    Raegar\n"
     ]
    }
   ],
   "source": [
    "print(df_names)"
   ]
  },
  {
   "cell_type": "markdown",
   "metadata": {},
   "source": [
    "### Set a new path to the name file in Melusine"
   ]
  },
  {
   "cell_type": "code",
   "execution_count": 7,
   "metadata": {},
   "outputs": [],
   "source": [
    "conf.set_name_file_path(file_path=new_path)"
   ]
  },
  {
   "cell_type": "markdown",
   "metadata": {},
   "source": [
    "### Print the new path to the name file"
   ]
  },
  {
   "cell_type": "code",
   "execution_count": 8,
   "metadata": {},
   "outputs": [
    {
     "name": "stdout",
     "output_type": "stream",
     "text": [
      "[PATH]\n",
      "template_config = /home/97133d/maif/melusine/melusine/config/conf.json\n",
      "default_name_file = /home/97133d/maif/melusine/tutorial/data/names.csv\n",
      "\n",
      "\n"
     ]
    }
   ],
   "source": [
    "with open(conf.path_ini_file_, 'r') as ini_file:\n",
    "        print(ini_file.read())"
   ]
  },
  {
   "cell_type": "markdown",
   "metadata": {},
   "source": [
    "### Print the content of the new name file"
   ]
  },
  {
   "cell_type": "code",
   "execution_count": 9,
   "metadata": {},
   "outputs": [
    {
     "name": "stdout",
     "output_type": "stream",
     "text": [
      "['daenerys', 'tyrion', 'jon', 'raegar']\n"
     ]
    }
   ],
   "source": [
    "conf_dict = conf.get_config_file()\n",
    "print(conf_dict['words_list']['names'][:5])"
   ]
  },
  {
   "cell_type": "markdown",
   "metadata": {},
   "source": [
    "### Setting back the original name file"
   ]
  },
  {
   "cell_type": "code",
   "execution_count": 10,
   "metadata": {},
   "outputs": [],
   "source": [
    "conf.reset_name_file_path()"
   ]
  },
  {
   "cell_type": "code",
   "execution_count": 11,
   "metadata": {},
   "outputs": [
    {
     "name": "stdout",
     "output_type": "stream",
     "text": [
      "['aaliyah', 'aalyah', 'aaron', 'abbas', 'abbes']\n"
     ]
    }
   ],
   "source": [
    "conf_dict = conf.get_config_file()\n",
    "print(conf_dict['words_list']['names'][:5])"
   ]
  },
  {
   "cell_type": "markdown",
   "metadata": {},
   "source": [
    "## Warning"
   ]
  },
  {
   "cell_type": "markdown",
   "metadata": {},
   "source": [
    "The name file is loaded by the different modules (Tokenizer, KeywordExtractor, etc) during the import, therefore, for the new name file to be effective, the code / kernel should be restarted after each modification of the name file."
   ]
  }
 ],
 "metadata": {
  "kernelspec": {
   "display_name": "emails_prod_without_melusine",
   "language": "python",
   "name": "emails_prod_without_melusine"
  },
  "language_info": {
   "codemirror_mode": {
    "name": "ipython",
    "version": 3
   },
   "file_extension": ".py",
   "mimetype": "text/x-python",
   "name": "python",
   "nbconvert_exporter": "python",
   "pygments_lexer": "ipython3",
   "version": "3.6.5"
  }
 },
 "nbformat": 4,
 "nbformat_minor": 2
}
