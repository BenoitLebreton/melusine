{
 "cells": [
  {
   "cell_type": "markdown",
   "metadata": {},
   "source": [
    "# Metadata preprocessing tutorial"
   ]
  },
  {
   "cell_type": "markdown",
   "metadata": {},
   "source": [
    "Melusine **prepare_data.metadata_engineering subpackage** provides classes to preprocess the metadata :\n",
    "- **MetaExtension :** a transformer which creates an 'extension' feature extracted from regex in metadata. It extracts the extensions of mail adresses.\n",
    "- **MetaDate :** a transformer which creates new features from dates such as: hour, minute, dayofweek.\n",
    "- **MetaAttachmentType :** a transformer which creates an 'attachment type' feature extracted from regex in metadata. It extracts the extensions of attached files.\n",
    "- **Dummifier :** a transformer to dummifies categorial features.\n",
    "\n",
    "All the classes have **fit_transform** methods."
   ]
  },
  {
   "cell_type": "markdown",
   "metadata": {},
   "source": [
    "### Input dataframe"
   ]
  },
  {
   "cell_type": "markdown",
   "metadata": {},
   "source": [
    "- To use a **MetaExtension** transformer : the dataframe requires a **from** column\n",
    "- To use a **MetaDate** transformer : the dataframe requires a **date** column\n",
    "- To use a **MetaAttachmentType** transformer : the dataframe requires a **attachment** column with the list of attached files"
   ]
  },
  {
   "cell_type": "code",
   "execution_count": null,
   "metadata": {
    "ExecuteTime": {
     "end_time": "2021-05-26T06:53:07.165947Z",
     "start_time": "2021-05-26T06:53:05.743624Z"
    }
   },
   "outputs": [],
   "source": [
    "from melusine.data.data_loader import load_email_data\n",
    "import ast\n",
    "\n",
    "df_emails = load_email_data()\n",
    "df_emails = df_emails[['from','date', 'attachment']]"
   ]
  },
  {
   "cell_type": "code",
   "execution_count": null,
   "metadata": {
    "ExecuteTime": {
     "end_time": "2021-05-26T06:53:07.185306Z",
     "start_time": "2021-05-26T06:53:07.169749Z"
    }
   },
   "outputs": [],
   "source": [
    "df_emails['from']"
   ]
  },
  {
   "cell_type": "code",
   "execution_count": null,
   "metadata": {
    "ExecuteTime": {
     "end_time": "2021-05-26T06:53:07.207960Z",
     "start_time": "2021-05-26T06:53:07.198510Z"
    }
   },
   "outputs": [],
   "source": [
    "df_emails['date']"
   ]
  },
  {
   "cell_type": "code",
   "execution_count": null,
   "metadata": {
    "ExecuteTime": {
     "end_time": "2021-05-26T06:53:07.238908Z",
     "start_time": "2021-05-26T06:53:07.210582Z"
    }
   },
   "outputs": [],
   "source": [
    "df_emails['attachment'] = df_emails['attachment'].apply(ast.literal_eval)\n",
    "df_emails['attachment']"
   ]
  },
  {
   "cell_type": "markdown",
   "metadata": {},
   "source": [
    "### MetaExtension transformer"
   ]
  },
  {
   "cell_type": "markdown",
   "metadata": {},
   "source": [
    "A **MetaExtension transformer** creates an *extension* feature extracted from regex in metadata. It extracts the extensions of mail adresses."
   ]
  },
  {
   "cell_type": "code",
   "execution_count": null,
   "metadata": {
    "ExecuteTime": {
     "end_time": "2021-05-26T06:53:09.311373Z",
     "start_time": "2021-05-26T06:53:07.246263Z"
    }
   },
   "outputs": [],
   "source": [
    "from melusine.prepare_email.metadata_engineering import MetaExtension\n",
    "\n",
    "meta_extension = MetaExtension()"
   ]
  },
  {
   "cell_type": "code",
   "execution_count": null,
   "metadata": {
    "ExecuteTime": {
     "end_time": "2021-05-26T06:53:09.329174Z",
     "start_time": "2021-05-26T06:53:09.318612Z"
    }
   },
   "outputs": [],
   "source": [
    "df_emails = meta_extension.fit_transform(df_emails)"
   ]
  },
  {
   "cell_type": "code",
   "execution_count": null,
   "metadata": {
    "ExecuteTime": {
     "end_time": "2021-05-26T06:53:09.341314Z",
     "start_time": "2021-05-26T06:53:09.334352Z"
    }
   },
   "outputs": [],
   "source": [
    "df_emails.extension"
   ]
  },
  {
   "cell_type": "markdown",
   "metadata": {},
   "source": [
    "### MetaDate transformer"
   ]
  },
  {
   "cell_type": "markdown",
   "metadata": {},
   "source": [
    "A **MetaDate transformer** creates new features from dates : hour, minute and dayofweek"
   ]
  },
  {
   "cell_type": "code",
   "execution_count": null,
   "metadata": {
    "ExecuteTime": {
     "end_time": "2021-05-26T06:53:09.347335Z",
     "start_time": "2021-05-26T06:53:09.343258Z"
    }
   },
   "outputs": [],
   "source": [
    "from melusine.prepare_email.metadata_engineering import MetaDate\n",
    "\n",
    "meta_date = MetaDate()"
   ]
  },
  {
   "cell_type": "code",
   "execution_count": null,
   "metadata": {
    "ExecuteTime": {
     "end_time": "2021-05-26T06:53:09.374356Z",
     "start_time": "2021-05-26T06:53:09.352486Z"
    }
   },
   "outputs": [],
   "source": [
    "df_emails = meta_date.fit_transform(df_emails)"
   ]
  },
  {
   "cell_type": "code",
   "execution_count": null,
   "metadata": {
    "ExecuteTime": {
     "end_time": "2021-05-26T06:53:09.389588Z",
     "start_time": "2021-05-26T06:53:09.377193Z"
    }
   },
   "outputs": [],
   "source": [
    "df_emails.date[0]"
   ]
  },
  {
   "cell_type": "code",
   "execution_count": null,
   "metadata": {
    "ExecuteTime": {
     "end_time": "2021-05-26T06:53:09.400847Z",
     "start_time": "2021-05-26T06:53:09.393254Z"
    }
   },
   "outputs": [],
   "source": [
    "df_emails.hour[0]"
   ]
  },
  {
   "cell_type": "code",
   "execution_count": null,
   "metadata": {
    "ExecuteTime": {
     "end_time": "2021-05-26T06:53:09.418344Z",
     "start_time": "2021-05-26T06:53:09.404163Z"
    }
   },
   "outputs": [],
   "source": [
    "df_emails.loc[0,'min']"
   ]
  },
  {
   "cell_type": "code",
   "execution_count": null,
   "metadata": {
    "ExecuteTime": {
     "end_time": "2021-05-26T06:53:09.431287Z",
     "start_time": "2021-05-26T06:53:09.423177Z"
    }
   },
   "outputs": [],
   "source": [
    "df_emails.dayofweek[0]"
   ]
  },
  {
   "cell_type": "markdown",
   "metadata": {},
   "source": [
    "### MetaAttachmentType transformer"
   ]
  },
  {
   "cell_type": "markdown",
   "metadata": {},
   "source": [
    "A **MetaAttachmentType transformer** creates an *attachment_type* feature extracted from an attachment names list. It extracts the extensions of attachments files."
   ]
  },
  {
   "cell_type": "code",
   "execution_count": null,
   "metadata": {
    "ExecuteTime": {
     "end_time": "2021-05-26T06:53:09.459370Z",
     "start_time": "2021-05-26T06:53:09.449735Z"
    }
   },
   "outputs": [],
   "source": [
    "from melusine.prepare_email.metadata_engineering import MetaAttachmentType\n",
    "\n",
    "meta_pj = MetaAttachmentType()"
   ]
  },
  {
   "cell_type": "code",
   "execution_count": null,
   "metadata": {
    "ExecuteTime": {
     "end_time": "2021-05-26T06:53:09.520667Z",
     "start_time": "2021-05-26T06:53:09.496726Z"
    }
   },
   "outputs": [],
   "source": [
    "df_emails = meta_pj.fit_transform(df_emails)"
   ]
  },
  {
   "cell_type": "code",
   "execution_count": null,
   "metadata": {
    "ExecuteTime": {
     "end_time": "2021-05-26T06:53:09.539442Z",
     "start_time": "2021-05-26T06:53:09.523596Z"
    }
   },
   "outputs": [],
   "source": [
    "df_emails.attachment_type"
   ]
  },
  {
   "cell_type": "markdown",
   "metadata": {},
   "source": [
    "### Dummifier transformer"
   ]
  },
  {
   "cell_type": "markdown",
   "metadata": {},
   "source": [
    "A **Dummifier transformer** dummifies categorial features.\n",
    "\n",
    "Its arguments are :\n",
    "- **columns_to_dummify** : a list of the metadata columns to dummify."
   ]
  },
  {
   "cell_type": "code",
   "execution_count": null,
   "metadata": {
    "ExecuteTime": {
     "end_time": "2021-05-26T06:53:09.546508Z",
     "start_time": "2021-05-26T06:53:09.541711Z"
    }
   },
   "outputs": [],
   "source": [
    "from melusine.prepare_email.metadata_engineering import Dummifier\n",
    "dummifier = Dummifier(columns_to_dummify=['extension','attachment_type', 'dayofweek', 'hour', 'min'])"
   ]
  },
  {
   "cell_type": "code",
   "execution_count": null,
   "metadata": {
    "ExecuteTime": {
     "end_time": "2021-05-26T06:53:09.618034Z",
     "start_time": "2021-05-26T06:53:09.555067Z"
    }
   },
   "outputs": [],
   "source": [
    "df_meta = dummifier.fit_transform(df_emails)"
   ]
  },
  {
   "cell_type": "code",
   "execution_count": null,
   "metadata": {
    "ExecuteTime": {
     "end_time": "2021-05-26T06:53:09.625454Z",
     "start_time": "2021-05-26T06:53:09.620457Z"
    }
   },
   "outputs": [],
   "source": [
    "df_meta.columns"
   ]
  },
  {
   "cell_type": "code",
   "execution_count": null,
   "metadata": {
    "ExecuteTime": {
     "end_time": "2021-05-26T06:53:09.654081Z",
     "start_time": "2021-05-26T06:53:09.629319Z"
    }
   },
   "outputs": [],
   "source": [
    "df_meta.head()"
   ]
  },
  {
   "cell_type": "code",
   "execution_count": null,
   "metadata": {
    "ExecuteTime": {
     "end_time": "2021-05-26T06:53:09.669813Z",
     "start_time": "2021-05-26T06:53:09.662476Z"
    }
   },
   "outputs": [],
   "source": [
    "df_meta.to_csv('./data/metadata.csv', index=False, encoding='utf-8', sep=';')"
   ]
  },
  {
   "cell_type": "markdown",
   "metadata": {},
   "source": [
    "### Custom metadata transformer"
   ]
  },
  {
   "cell_type": "markdown",
   "metadata": {},
   "source": [
    "A custom transformer can be implemented to extract metadata from a column :"
   ]
  },
  {
   "cell_type": "markdown",
   "metadata": {},
   "source": [
    "```python\n",
    "from sklearn.base import BaseEstimator, TransformerMixin\n",
    "\n",
    "class MetaDataCustom(BaseEstimator, TransformerMixin):\n",
    "    \"\"\"Transformer which creates custom matadata\n",
    "\n",
    "    Compatible with scikit-learn API.\n",
    "    \"\"\"\n",
    "\n",
    "    def __init__(self):\n",
    "        \"\"\"\n",
    "        arguments\n",
    "        \"\"\"\n",
    "\n",
    "    def fit(self, X, y=None):\n",
    "        \"\"\" Fit method\"\"\"\n",
    "        return self\n",
    "\n",
    "    def transform(self, X):\n",
    "        \"\"\"Transform method\"\"\"\n",
    "        X['custom_metadata'] = X['column'].apply(self.get_metadata)\n",
    "        return X\n",
    "```"
   ]
  },
  {
   "cell_type": "markdown",
   "metadata": {},
   "source": [
    "The name of the output column can then be given as argument to a Dummifier transformer :"
   ]
  },
  {
   "cell_type": "markdown",
   "metadata": {},
   "source": [
    "```python\n",
    "dummifier = Dummifier(columns_to_dummify=['custom_metadata'])\n",
    "```"
   ]
  }
 ],
 "metadata": {
  "kernelspec": {
   "display_name": "melusine_perso",
   "language": "python",
   "name": "melusine_perso"
  },
  "language_info": {
   "codemirror_mode": {
    "name": "ipython",
    "version": 3
   },
   "file_extension": ".py",
   "mimetype": "text/x-python",
   "name": "python",
   "nbconvert_exporter": "python",
   "pygments_lexer": "ipython3",
   "version": "3.7.10"
  },
  "toc": {
   "base_numbering": 1,
   "nav_menu": {},
   "number_sections": true,
   "sideBar": true,
   "skip_h1_title": false,
   "title_cell": "Table of Contents",
   "title_sidebar": "Contents",
   "toc_cell": false,
   "toc_position": {},
   "toc_section_display": true,
   "toc_window_display": false
  },
  "varInspector": {
   "cols": {
    "lenName": 16,
    "lenType": 16,
    "lenVar": 40
   },
   "kernels_config": {
    "python": {
     "delete_cmd_postfix": "",
     "delete_cmd_prefix": "del ",
     "library": "var_list.py",
     "varRefreshCmd": "print(var_dic_list())"
    },
    "r": {
     "delete_cmd_postfix": ") ",
     "delete_cmd_prefix": "rm(",
     "library": "var_list.r",
     "varRefreshCmd": "cat(var_dic_list()) "
    }
   },
   "types_to_exclude": [
    "module",
    "function",
    "builtin_function_or_method",
    "instance",
    "_Feature"
   ],
   "window_display": false
  }
 },
 "nbformat": 4,
 "nbformat_minor": 2
}
